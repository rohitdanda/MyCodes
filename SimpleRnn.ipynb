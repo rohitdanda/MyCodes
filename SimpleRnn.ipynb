{
  "nbformat": 4,
  "nbformat_minor": 0,
  "metadata": {
    "colab": {
      "name": "SimpleRnn.ipynb",
      "provenance": [],
      "authorship_tag": "ABX9TyNZ5ON2y1ZG/fAGDUAc4SoH",
      "include_colab_link": true
    },
    "kernelspec": {
      "name": "python3",
      "display_name": "Python 3"
    }
  },
  "cells": [
    {
      "cell_type": "markdown",
      "metadata": {
        "id": "view-in-github",
        "colab_type": "text"
      },
      "source": [
        "<a href=\"https://colab.research.google.com/github/rohitdanda/MyCodes/blob/master/SimpleRnn.ipynb\" target=\"_parent\"><img src=\"https://colab.research.google.com/assets/colab-badge.svg\" alt=\"Open In Colab\"/></a>"
      ]
    },
    {
      "cell_type": "code",
      "metadata": {
        "id": "7yNTrYb-kGU_",
        "colab_type": "code",
        "colab": {}
      },
      "source": [
        "import tensorflow as tf\n",
        "import numpy as np"
      ],
      "execution_count": 0,
      "outputs": []
    },
    {
      "cell_type": "code",
      "metadata": {
        "id": "9QRX-hGMkLtC",
        "colab_type": "code",
        "colab": {}
      },
      "source": [
        "x = np.linspace(0,50,501)\n"
      ],
      "execution_count": 0,
      "outputs": []
    },
    {
      "cell_type": "code",
      "metadata": {
        "id": "nqTBuKJqkkit",
        "colab_type": "code",
        "colab": {}
      },
      "source": [
        "y = np.sin(x)"
      ],
      "execution_count": 0,
      "outputs": []
    },
    {
      "cell_type": "code",
      "metadata": {
        "id": "hn0kAnQmknVX",
        "colab_type": "code",
        "colab": {}
      },
      "source": [
        "import pandas as pd\n",
        "\n",
        "data_frame = pd.DataFrame(data=y,index=x,columns=['Sine'])"
      ],
      "execution_count": 0,
      "outputs": []
    },
    {
      "cell_type": "code",
      "metadata": {
        "id": "P7ZxNbkUk3Rc",
        "colab_type": "code",
        "outputId": "3ac2cbd0-94b3-4a89-9f56-9b7908b0720c",
        "colab": {
          "base_uri": "https://localhost:8080/",
          "height": 283
        }
      },
      "source": [
        "data_frame.plot()"
      ],
      "execution_count": 0,
      "outputs": [
        {
          "output_type": "execute_result",
          "data": {
            "text/plain": [
              "<matplotlib.axes._subplots.AxesSubplot at 0x7fe269e43400>"
            ]
          },
          "metadata": {
            "tags": []
          },
          "execution_count": 9
        },
        {
          "output_type": "display_data",
          "data": {
            "image/png": "[encoded data removed]",
            "text/plain": [
              "<Figure size 432x288 with 1 Axes>"
            ]
          },
          "metadata": {
            "tags": [],
            "needs_background": "light"
          }
        }
      ]
    },
    {
      "cell_type": "code",
      "metadata": {
        "id": "fR6K9ixSlDnn",
        "colab_type": "code",
        "colab": {}
      },
      "source": [
        "test_percent = 0.1\n",
        "test_index = np.round(len(data_frame)*test_percent)\n",
        "test_vaue = int(len(data_frame)-test_index)\n",
        "train = data_frame.iloc[:test_vaue]\n",
        "test = data_frame.iloc[test_vaue:]"
      ],
      "execution_count": 0,
      "outputs": []
    },
    {
      "cell_type": "code",
      "metadata": {
        "id": "n7SZkoQyk4_p",
        "colab_type": "code",
        "colab": {}
      },
      "source": [
        "from sklearn.preprocessing import MinMaxScaler\n",
        "\n",
        "scaler = MinMaxScaler()\n",
        "\n",
        "scaler.fit(train)\n",
        "scaler_train = scaler.transform(train)"
      ],
      "execution_count": 0,
      "outputs": []
    },
    {
      "cell_type": "code",
      "metadata": {
        "id": "UnhNUeV1mJt3",
        "colab_type": "code",
        "colab": {}
      },
      "source": [
        "scaler_test = scaler.transform(test)"
      ],
      "execution_count": 0,
      "outputs": []
    },
    {
      "cell_type": "code",
      "metadata": {
        "id": "-vAoTrImmkxe",
        "colab_type": "code",
        "colab": {}
      },
      "source": [
        "from tensorflow.keras.preprocessing.sequence import TimeseriesGenerator\n",
        "\n",
        "length_train = 50\n",
        "prediction_length = 1\n",
        "\n",
        "generator = TimeseriesGenerator(scaler_train,scaler_train,length=length_train,batch_size=prediction_length)"
      ],
      "execution_count": 0,
      "outputs": []
    },
    {
      "cell_type": "code",
      "metadata": {
        "id": "n8uSvydSrtGU",
        "colab_type": "code",
        "colab": {}
      },
      "source": [
        "from tensorflow.keras.models import Sequential\n",
        "from tensorflow.keras.layers import SimpleRNN,Dense\n",
        "\n",
        "model = Sequential([\n",
        "                    SimpleRNN(50,input_shape=(50,1)),\n",
        "                    Dense(1)\n",
        "])"
      ],
      "execution_count": 0,
      "outputs": []
    },
    {
      "cell_type": "code",
      "metadata": {
        "id": "4iDaDqlesDBk",
        "colab_type": "code",
        "outputId": "e6c011a6-4cdc-4141-9543-37056b445e5a",
        "colab": {
          "base_uri": "https://localhost:8080/",
          "height": 235
        }
      },
      "source": [
        "model.summary()"
      ],
      "execution_count": 0,
      "outputs": [
        {
          "output_type": "stream",
          "text": [
            "Model: \"sequential\"\n",
            "_________________________________________________________________\n",
            "Layer (type)                 Output Shape              Param #   \n",
            "=================================================================\n",
            "simple_rnn (SimpleRNN)       (None, 50)                2600      \n",
            "_________________________________________________________________\n",
            "dense (Dense)                (None, 1)                 51        \n",
            "=================================================================\n",
            "Total params: 2,651\n",
            "Trainable params: 2,651\n",
            "Non-trainable params: 0\n",
            "_________________________________________________________________\n"
          ],
          "name": "stdout"
        }
      ]
    },
    {
      "cell_type": "code",
      "metadata": {
        "id": "JCvYcPxWsEnj",
        "colab_type": "code",
        "colab": {}
      },
      "source": [
        "model.compile(optimizer='adam',loss='mse')"
      ],
      "execution_count": 0,
      "outputs": []
    },
    {
      "cell_type": "code",
      "metadata": {
        "id": "L1ZhBe0nsJsr",
        "colab_type": "code",
        "outputId": "e4adf67f-eae3-4c3a-aaff-edd2ecde9f59",
        "colab": {
          "base_uri": "https://localhost:8080/",
          "height": 217
        }
      },
      "source": [
        "model.fit(generator,epochs=5)"
      ],
      "execution_count": 0,
      "outputs": [
        {
          "output_type": "stream",
          "text": [
            "Epoch 1/5\n",
            "401/401 [==============================] - 3s 7ms/step - loss: 0.0155\n",
            "Epoch 2/5\n",
            "401/401 [==============================] - 3s 7ms/step - loss: 2.6280e-04\n",
            "Epoch 3/5\n",
            "401/401 [==============================] - 3s 7ms/step - loss: 9.0245e-04\n",
            "Epoch 4/5\n",
            "401/401 [==============================] - 3s 8ms/step - loss: 3.9648e-05\n",
            "Epoch 5/5\n",
            "401/401 [==============================] - 3s 7ms/step - loss: 6.8013e-04\n"
          ],
          "name": "stdout"
        },
        {
          "output_type": "execute_result",
          "data": {
            "text/plain": [
              "<tensorflow.python.keras.callbacks.History at 0x7fe25bb47780>"
            ]
          },
          "metadata": {
            "tags": []
          },
          "execution_count": 30
        }
      ]
    },
    {
      "cell_type": "code",
      "metadata": {
        "id": "KNzCKU-Ysg66",
        "colab_type": "code",
        "colab": {}
      },
      "source": [
        "loss = pd.DataFrame(model.history.history)"
      ],
      "execution_count": 0,
      "outputs": []
    },
    {
      "cell_type": "code",
      "metadata": {
        "id": "Wy4HXQwnsxX2",
        "colab_type": "code",
        "outputId": "87371236-1b95-4021-98f7-51996c1adb6d",
        "colab": {
          "base_uri": "https://localhost:8080/",
          "height": 284
        }
      },
      "source": [
        "loss.plot()"
      ],
      "execution_count": 0,
      "outputs": [
        {
          "output_type": "execute_result",
          "data": {
            "text/plain": [
              "<matplotlib.axes._subplots.AxesSubplot at 0x7fe2593739e8>"
            ]
          },
          "metadata": {
            "tags": []
          },
          "execution_count": 33
        },
        {
          "output_type": "display_data",
          "data": {
            "image/png": "[encoded data removed]",
            "text/plain": [
              "<Figure size 432x288 with 1 Axes>"
            ]
          },
          "metadata": {
            "tags": [],
            "needs_background": "light"
          }
        }
      ]
    },
    {
      "cell_type": "code",
      "metadata": {
        "id": "4ZfTrLH7s1wV",
        "colab_type": "code",
        "colab": {}
      },
      "source": [
        "test_prediciton =[]\n",
        "first_eval = scaler_train[-50:]\n",
        "current_batch = first_eval.reshape((1,50,1))"
      ],
      "execution_count": 0,
      "outputs": []
    },
    {
      "cell_type": "code",
      "metadata": {
        "id": "Lr2r6kektQbE",
        "colab_type": "code",
        "colab": {}
      },
      "source": [
        "for i in range(len(test)):\n",
        "  current_pred = model.predict(current_batch)[0]\n",
        "  test_prediciton.append(current_pred)\n",
        "  current_batch = np.append(current_batch[:,1:,:],[[current_pred]],axis=1)\n",
        "  "
      ],
      "execution_count": 0,
      "outputs": []
    },
    {
      "cell_type": "code",
      "metadata": {
        "id": "-F3I7A6Xtq8s",
        "colab_type": "code",
        "outputId": "5f55e92a-da4c-4f1a-f2e8-5429c749ab3c",
        "colab": {
          "base_uri": "https://localhost:8080/",
          "height": 126
        }
      },
      "source": [
        "true_predicition = scaler.inverse_transform(test_prediciton)\n",
        "test['prediciton']=true_predicition"
      ],
      "execution_count": 0,
      "outputs": [
        {
          "output_type": "stream",
          "text": [
            "/usr/local/lib/python3.6/dist-packages/ipykernel_launcher.py:2: SettingWithCopyWarning: \n",
            "A value is trying to be set on a copy of a slice from a DataFrame.\n",
            "Try using .loc[row_indexer,col_indexer] = value instead\n",
            "\n",
            "See the caveats in the documentation: https://pandas.pydata.org/pandas-docs/stable/user_guide/indexing.html#returning-a-view-versus-a-copy\n",
            "  \n"
          ],
          "name": "stderr"
        }
      ]
    },
    {
      "cell_type": "code",
      "metadata": {
        "id": "zRePToI7t4fo",
        "colab_type": "code",
        "outputId": "7f756123-5143-459e-8d9f-5ac29af133d2",
        "colab": {
          "base_uri": "https://localhost:8080/",
          "height": 283
        }
      },
      "source": [
        "test.plot()"
      ],
      "execution_count": 0,
      "outputs": [
        {
          "output_type": "execute_result",
          "data": {
            "text/plain": [
              "<matplotlib.axes._subplots.AxesSubplot at 0x7fe259275358>"
            ]
          },
          "metadata": {
            "tags": []
          },
          "execution_count": 44
        },
        {
          "output_type": "display_data",
          "data": {
            "image/png": "[encoded data removed]",
            "text/plain": [
              "<Figure size 432x288 with 1 Axes>"
            ]
          },
          "metadata": {
            "tags": [],
            "needs_background": "light"
          }
        }
      ]
    }
  ]
}